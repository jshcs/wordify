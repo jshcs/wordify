{
 "cells": [
  {
   "cell_type": "markdown",
   "metadata": {},
   "source": [
    "### Wordify: A Reverse Dictionary for Everyone"
   ]
  },
  {
   "cell_type": "code",
   "execution_count": null,
   "metadata": {
    "collapsed": false
   },
   "outputs": [],
   "source": [
    "%load_ext autoreload\n",
    "%autoreload 2\n"
   ]
  },
  {
   "cell_type": "code",
   "execution_count": null,
   "metadata": {
    "collapsed": false
   },
   "outputs": [],
   "source": [
    "import spacy\n",
    "import collections\n",
    "from headers import *\n",
    "from spacy.vocab import Vocab\n",
    "from spacy.language import Language\n",
    "from gensim.models import Word2Vec\n",
    "from sklearn.decomposition import PCA\n",
    "import matplotlib.pyplot as plt\n",
    "import time\n",
    "\n",
    "%run 'utils.ipynb'"
   ]
  },
  {
   "cell_type": "code",
   "execution_count": null,
   "metadata": {
    "collapsed": false
   },
   "outputs": [],
   "source": [
    "def create_word_embeddings(tokens_list):\n",
    "    print \"Starting the embedding process....\"\n",
    "    word_embeddings=Word2Vec(tokens_list,min_count=1,size=WV_SIZE)\n",
    "    vocab=list(word_embeddings.wv.vocab)\n",
    "    print \"Embeddings ready....\"\n",
    "    return word_embeddings,vocab\n"
   ]
  },
  {
   "cell_type": "code",
   "execution_count": null,
   "metadata": {
    "collapsed": false
   },
   "outputs": [],
   "source": [
    "dict2=[x for x in dictionary if nlp(unicode(x[0],'utf-8')).has_vector and nlp(unicode(x[0],'utf-8')).vector.all()!=0]\n",
    "len(dict2)"
   ]
  },
  {
   "cell_type": "code",
   "execution_count": null,
   "metadata": {
    "collapsed": false
   },
   "outputs": [],
   "source": [
    "train_dict,test_dict=train_test_split(dict2,SPLIT_RATIO)\n",
    "print len(train_dict),len(test_dict)\n"
   ]
  },
  {
   "cell_type": "code",
   "execution_count": null,
   "metadata": {
    "collapsed": false,
    "scrolled": false
   },
   "outputs": [],
   "source": [
    "%run 'utils.ipynb'\n",
    "start=time.time()\n",
    "print eval_method_with_spacy(test_dict,5000,method='additive')\n",
    "end=time.time()\n",
    "print \"Total time taken: %f\"%(end-start)"
   ]
  },
  {
   "cell_type": "code",
   "execution_count": null,
   "metadata": {
    "collapsed": true
   },
   "outputs": [],
   "source": []
  }
 ],
 "metadata": {
  "anaconda-cloud": {},
  "kernelspec": {
   "display_name": "Python [default]",
   "language": "python",
   "name": "python2"
  },
  "language_info": {
   "codemirror_mode": {
    "name": "ipython",
    "version": 2
   },
   "file_extension": ".py",
   "mimetype": "text/x-python",
   "name": "python",
   "nbconvert_exporter": "python",
   "pygments_lexer": "ipython2",
   "version": "2.7.12"
  }
 },
 "nbformat": 4,
 "nbformat_minor": 2
}
