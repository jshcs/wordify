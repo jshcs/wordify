{
 "cells": [
  {
   "cell_type": "markdown",
   "metadata": {},
   "source": [
    "## LSTM"
   ]
  },
  {
   "cell_type": "code",
   "execution_count": null,
   "metadata": {
    "collapsed": false
   },
   "outputs": [],
   "source": [
    "%load_ext autoreload\n",
    "%autoreload 2"
   ]
  },
  {
   "cell_type": "code",
   "execution_count": 1,
   "metadata": {
    "collapsed": false
   },
   "outputs": [],
   "source": [
    "from headers import *\n",
    "from spacy.vocab import Vocab\n",
    "from spacy.language import Language\n",
    "import spacy\n",
    "\n"
   ]
  },
  {
   "cell_type": "code",
   "execution_count": 2,
   "metadata": {
    "collapsed": false
   },
   "outputs": [
    {
     "name": "stderr",
     "output_type": "stream",
     "text": [
      "Using TensorFlow backend.\n"
     ]
    }
   ],
   "source": [
    "from keras.models import Sequential\n",
    "from keras.layers.core import Dense, Activation, Dropout\n",
    "from keras.layers import BatchNormalization\n",
    "from keras.layers.recurrent import LSTM\n",
    "from keras import optimizers\n",
    "import tensorflow as tf"
   ]
  },
  {
   "cell_type": "code",
   "execution_count": null,
   "metadata": {
    "collapsed": false
   },
   "outputs": [],
   "source": [
    "%run 'utils.ipynb'\n",
    "\n"
   ]
  },
  {
   "cell_type": "code",
   "execution_count": null,
   "metadata": {
    "collapsed": false
   },
   "outputs": [],
   "source": [
    "#train_dict,test_dict=train_test_split(dict2,SPLIT_RATIO)\n",
    "#print len(train_dict),len(test_dict)\n",
    "\n",
    "#X_train,X_val,X_test,Y_train,Y_val,Y_test=X_set[:-2000],X_set[-2000:-1000],X_set[-1000:],Y_set[:-2000],Y_set[-2000:-1000],Y_set[-1000:]\n",
    "#print X_train.shape,X_val.shape,X_test.shape,Y_train.shape,Y_val.shape,Y_test.shape"
   ]
  },
  {
   "cell_type": "code",
   "execution_count": 3,
   "metadata": {
    "collapsed": false
   },
   "outputs": [
    {
     "name": "stdout",
     "output_type": "stream",
     "text": [
      "_________________________________________________________________\n",
      "Layer (type)                 Output Shape              Param #   \n",
      "=================================================================\n",
      "lstm_1 (LSTM)                (None, 10, 128)           117248    \n",
      "_________________________________________________________________\n",
      "batch_normalization_1 (Batch (None, 10, 128)           512       \n",
      "_________________________________________________________________\n",
      "dropout_1 (Dropout)          (None, 10, 128)           0         \n",
      "_________________________________________________________________\n",
      "lstm_2 (LSTM)                (None, 128)               131584    \n",
      "_________________________________________________________________\n",
      "batch_normalization_2 (Batch (None, 128)               512       \n",
      "_________________________________________________________________\n",
      "dense_1 (Dense)              (None, 100)               12900     \n",
      "_________________________________________________________________\n",
      "activation_1 (Activation)    (None, 100)               0         \n",
      "=================================================================\n",
      "Total params: 262,756\n",
      "Trainable params: 262,244\n",
      "Non-trainable params: 512\n",
      "_________________________________________________________________\n"
     ]
    }
   ],
   "source": [
    "\n",
    "model = Sequential()\n",
    "model.add(LSTM(128, return_sequences=True, input_shape=(DEF_LEN, WV_SIZE)))\n",
    "model.add(BatchNormalization())\n",
    "model.add(Dropout(0.3))\n",
    "model.add(LSTM(128, return_sequences=False))\n",
    "model.add(BatchNormalization())\n",
    "model.add(Dense(WV_SIZE, kernel_initializer='glorot_normal'))\n",
    "model.add(Activation('softmax'))\n",
    "model.summary()"
   ]
  },
  {
   "cell_type": "code",
   "execution_count": 4,
   "metadata": {
    "collapsed": true
   },
   "outputs": [],
   "source": [
    "from keras.utils.vis_utils import plot_model\n",
    "from IPython.display import SVG\n",
    "from keras.utils.vis_utils import model_to_dot\n",
    "plot_model(model, to_file='lstm.png', show_shapes=True)"
   ]
  },
  {
   "cell_type": "code",
   "execution_count": null,
   "metadata": {
    "collapsed": false
   },
   "outputs": [],
   "source": [
    "#rprop=optimizers.RMSprop(lr=0.002)\n",
    "adam=optimizers.Adam(lr=3e-3)\n",
    "\n",
    "model.compile(loss=sq_distance, optimizer=adam)\n"
   ]
  },
  {
   "cell_type": "code",
   "execution_count": null,
   "metadata": {
    "collapsed": false
   },
   "outputs": [],
   "source": [
    "model.fit(X_train[:30000],Y_train[:30000],batch_size=100,epochs=5,validation_data=(X_val,Y_val),verbose = 1)"
   ]
  },
  {
   "cell_type": "code",
   "execution_count": null,
   "metadata": {
    "collapsed": false
   },
   "outputs": [],
   "source": [
    "model.evaluate(x=X_test,y=Y_test,batch_size=100, verbose=1)"
   ]
  },
  {
   "cell_type": "code",
   "execution_count": null,
   "metadata": {
    "collapsed": false
   },
   "outputs": [],
   "source": [
    "X_train[0,:,:]"
   ]
  },
  {
   "cell_type": "code",
   "execution_count": null,
   "metadata": {
    "collapsed": false
   },
   "outputs": [],
   "source": [
    "a=model.predict(X_test[45,:,:].reshape(1,DEF_LEN,WV_SIZE), batch_size=1, verbose=1)"
   ]
  },
  {
   "cell_type": "code",
   "execution_count": null,
   "metadata": {
    "collapsed": false
   },
   "outputs": [],
   "source": [
    "#get_most_similar(a)\n",
    "dict2[0][1]\n"
   ]
  },
  {
   "cell_type": "code",
   "execution_count": null,
   "metadata": {
    "collapsed": false
   },
   "outputs": [],
   "source": [
    "get_most_similar(a)[:5]"
   ]
  },
  {
   "cell_type": "code",
   "execution_count": null,
   "metadata": {
    "collapsed": false
   },
   "outputs": [],
   "source": [
    "a\n"
   ]
  },
  {
   "cell_type": "code",
   "execution_count": null,
   "metadata": {
    "collapsed": false
   },
   "outputs": [],
   "source": [
    "dict2[0]\n",
    "print X_test.shape"
   ]
  },
  {
   "cell_type": "code",
   "execution_count": null,
   "metadata": {
    "collapsed": false
   },
   "outputs": [],
   "source": [
    "def get_most_similar_for_lstm(input_embedding):\n",
    "    cs_list=[]\n",
    "    for v in global_vocab:\n",
    "        doc=nlp(v)\n",
    "        #if doc[0].has_vector:\n",
    "            #if doc[0].vector.all()!=0.0:\n",
    "        cs=cosine_sim(input_embedding,doc[0].vector)\n",
    "                #print cs\n",
    "                #print len(input_embedding),len(nlp.vocab.get_vector(unicode(v,'utf-8')))\n",
    "                #if not math.isnan(cs):\n",
    "        cs_list.append((doc[0].text,cs))\n",
    "            \n",
    "                \n",
    "                \n",
    "                    \n",
    "    sorted_cs_list=sorted(cs_list,key=lambda tup:tup[1],reverse=True)\n",
    "    #return sorted_cs_list[:return_length]\n",
    "    return sorted_cs_list"
   ]
  },
  {
   "cell_type": "code",
   "execution_count": null,
   "metadata": {
    "collapsed": false,
    "scrolled": false
   },
   "outputs": [],
   "source": [
    "sample=dict2[-100:]\n",
    "#print sample\n",
    "#random.shuffle(sample)\n",
    "#print sample\n",
    "test_words=[x for x,y in sample]\n",
    "ranks=[]\n",
    "X_test_embed=np.zeros((100,DEF_LEN,WV_SIZE))\n",
    "X_test_embed[:,:,:]=X_test[-100:,:,:]\n",
    "\n",
    "predictions=model.predict(X_test[-100:,:,:],batch_size=10,verbose=0)\n",
    "print \"Done\"\n",
    "\n",
    "\n",
    "        \n",
    "    \n",
    "    \n",
    "\n"
   ]
  },
  {
   "cell_type": "code",
   "execution_count": null,
   "metadata": {
    "collapsed": false
   },
   "outputs": [],
   "source": [
    "for i in range(len(predictions)):\n",
    "    input_embedding=predictions[i]\n",
    "    \n",
    "    r=get_list_from_tuple(get_most_similar(input_embedding))\n",
    "    results=r[0]\n",
    "    #print len(results)==len(local_vocab)\n",
    "    scores=r[1]\n",
    "    #top_recall_results=results[:recall_count]\n",
    "    #target_rank=results.index(target_word)\n",
    "    #if target_word[0].text in results:\n",
    "        #print target_word[0].text\n",
    "        #print \"There\"'\n",
    "    target_word=Y_GT[-100+i]\n",
    "    print dict2[-100+i][1],' ',target_word,'/',results[0],' ',scores[0]\n",
    "    #print results.index(target_word)\n",
    "    if target_word in results:\n",
    "        target_rank=results.index(target_word)\n",
    "        ranks.append(target_rank)\n",
    "        print \"%d/%d done for word %s, rank: %d\"%(i,len(test_words),str(target_word),target_rank)\n",
    "    #print \"Final accuracy on %d test points: %f\"%(len(test_set),(float(acc)/float(len(test_set))))\n",
    "print \"Mean rank: %f\"%(float(sum(ranks))/float(len(ranks)))\n",
    "print get_rank_bins(ranks)"
   ]
  },
  {
   "cell_type": "raw",
   "metadata": {},
   "source": [
    "tf.reset_default_graph()\n"
   ]
  },
  {
   "cell_type": "code",
   "execution_count": null,
   "metadata": {
    "collapsed": true
   },
   "outputs": [],
   "source": [
    "'''%Sentence that could be used:\n",
    "%structure on which food and drinks are kept: counter\n",
    "%way of dealing with a difficult situation: solution\n",
    "%make someone able to do something: prepare\n",
    "%affecting a large area:extensive\n",
    "%expressing lack of interest: levity\n",
    "%not able to handle things: clumsy\n",
    "%tendency to think negative: pessimism\n",
    "%thing to keep clothes on: hanger\n",
    "%symbol behind a card: trademark\n",
    "%bottle that you push: dispenser'''"
   ]
  },
  {
   "cell_type": "code",
   "execution_count": null,
   "metadata": {
    "collapsed": true
   },
   "outputs": [],
   "source": [
    "dict2.append(('counter','structure on which food and drinks are kept'))"
   ]
  },
  {
   "cell_type": "code",
   "execution_count": null,
   "metadata": {
    "collapsed": true
   },
   "outputs": [],
   "source": [
    "dict2.append(('solution','way of dealing with a difficult situation'))"
   ]
  },
  {
   "cell_type": "code",
   "execution_count": null,
   "metadata": {
    "collapsed": true
   },
   "outputs": [],
   "source": [
    "dict2.append(('prepare','make someone able to do something'))"
   ]
  },
  {
   "cell_type": "code",
   "execution_count": null,
   "metadata": {
    "collapsed": true
   },
   "outputs": [],
   "source": [
    "dict2.append(('extensive','affecting a large area'))"
   ]
  },
  {
   "cell_type": "code",
   "execution_count": null,
   "metadata": {
    "collapsed": true
   },
   "outputs": [],
   "source": [
    "dict2.append(('levity','expressing lack of interest'))"
   ]
  },
  {
   "cell_type": "code",
   "execution_count": null,
   "metadata": {
    "collapsed": false
   },
   "outputs": [],
   "source": [
    "dict2[-5:]"
   ]
  },
  {
   "cell_type": "code",
   "execution_count": null,
   "metadata": {
    "collapsed": false
   },
   "outputs": [],
   "source": [
    "sample=dict2[-5:]\n",
    "test_em=np.zeros((5,DEF_LEN,WV_SIZE))\n",
    "for i in range(len(sample)):\n",
    "    \n",
    "    tok=sample[i][1].split(' ')\n",
    "    for t in range(len(tok)):\n",
    "        test_em[i,t,:]=nlp(unicode(tok[t],'utf-8')).vector\n",
    "print test_em.shape\n",
    "    "
   ]
  },
  {
   "cell_type": "code",
   "execution_count": null,
   "metadata": {
    "collapsed": true
   },
   "outputs": [],
   "source": [
    "predictions=model.predict(test_em,batch_size=2)"
   ]
  },
  {
   "cell_type": "code",
   "execution_count": null,
   "metadata": {
    "collapsed": false
   },
   "outputs": [],
   "source": [
    "for i in range(len(predictions)):\n",
    "    print i,get_most_similar(predictions[i])[:5]"
   ]
  },
  {
   "cell_type": "code",
   "execution_count": null,
   "metadata": {
    "collapsed": false
   },
   "outputs": [],
   "source": [
    "print eval_method_with_spacy(dict2[-5:],5000,method='additive')"
   ]
  },
  {
   "cell_type": "code",
   "execution_count": null,
   "metadata": {
    "collapsed": true
   },
   "outputs": [],
   "source": []
  }
 ],
 "metadata": {
  "anaconda-cloud": {},
  "kernelspec": {
   "display_name": "Python [default]",
   "language": "python",
   "name": "python2"
  },
  "language_info": {
   "codemirror_mode": {
    "name": "ipython",
    "version": 2
   },
   "file_extension": ".py",
   "mimetype": "text/x-python",
   "name": "python",
   "nbconvert_exporter": "python",
   "pygments_lexer": "ipython2",
   "version": "2.7.12"
  }
 },
 "nbformat": 4,
 "nbformat_minor": 1
}
