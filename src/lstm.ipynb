{
 "cells": [
  {
   "cell_type": "markdown",
   "metadata": {},
   "source": [
    "## LSTM"
   ]
  },
  {
   "cell_type": "code",
   "execution_count": null,
   "metadata": {
    "collapsed": false
   },
   "outputs": [],
   "source": [
    "%load_ext autoreload\n",
    "%autoreload 2"
   ]
  },
  {
   "cell_type": "code",
   "execution_count": null,
   "metadata": {
    "collapsed": false
   },
   "outputs": [],
   "source": [
    "from headers import *\n",
    "from spacy.vocab import Vocab\n",
    "from spacy.language import Language\n",
    "import spacy\n",
    "\n"
   ]
  },
  {
   "cell_type": "code",
   "execution_count": null,
   "metadata": {
    "collapsed": false
   },
   "outputs": [],
   "source": [
    "from keras.models import Sequential\n",
    "from keras.layers.core import Dense, Activation, Dropout\n",
    "from keras.layers import BatchNormalization\n",
    "from keras.layers.recurrent import LSTM\n",
    "from keras import optimizers\n",
    "import tensorflow as tf"
   ]
  },
  {
   "cell_type": "code",
   "execution_count": null,
   "metadata": {
    "collapsed": false
   },
   "outputs": [],
   "source": [
    "%run 'utils.ipynb'\n",
    "\n"
   ]
  },
  {
   "cell_type": "code",
   "execution_count": null,
   "metadata": {
    "collapsed": false
   },
   "outputs": [],
   "source": [
    "model = Sequential()\n",
    "model.add(LSTM(128, return_sequences=True, input_shape=(DEF_LEN, WV_SIZE)))\n",
    "model.add(BatchNormalization())\n",
    "model.add(Dropout(0.3))\n",
    "model.add(LSTM(128, return_sequences=False))\n",
    "model.add(BatchNormalization())\n",
    "model.add(Dense(WV_SIZE, kernel_initializer='glorot_normal'))\n",
    "model.add(Activation('softmax'))\n",
    "model.summary()"
   ]
  },
  {
   "cell_type": "code",
   "execution_count": null,
   "metadata": {
    "collapsed": true
   },
   "outputs": [],
   "source": [
    "from keras.utils.vis_utils import plot_model\n",
    "from IPython.display import SVG\n",
    "from keras.utils.vis_utils import model_to_dot\n",
    "plot_model(model, to_file='lstm.png', show_shapes=True)"
   ]
  },
  {
   "cell_type": "code",
   "execution_count": null,
   "metadata": {
    "collapsed": false
   },
   "outputs": [],
   "source": [
    "adam=optimizers.Adam(lr=3e-3)\n",
    "\n",
    "model.compile(loss=sq_distance, optimizer=adam)\n"
   ]
  },
  {
   "cell_type": "code",
   "execution_count": null,
   "metadata": {
    "collapsed": false
   },
   "outputs": [],
   "source": [
    "model.fit(X_train[:30000],Y_train[:30000],batch_size=100,epochs=5,validation_data=(X_val,Y_val),verbose = 1)"
   ]
  },
  {
   "cell_type": "code",
   "execution_count": null,
   "metadata": {
    "collapsed": false
   },
   "outputs": [],
   "source": [
    "model.evaluate(x=X_test,y=Y_test,batch_size=100, verbose=1)"
   ]
  },
  {
   "cell_type": "code",
   "execution_count": null,
   "metadata": {
    "collapsed": false
   },
   "outputs": [],
   "source": [
    "a=model.predict(X_test[45,:,:].reshape(1,DEF_LEN,WV_SIZE), batch_size=1, verbose=1)"
   ]
  },
  {
   "cell_type": "code",
   "execution_count": null,
   "metadata": {
    "collapsed": false
   },
   "outputs": [],
   "source": [
    "get_most_similar(a)[:5]"
   ]
  },
  {
   "cell_type": "code",
   "execution_count": null,
   "metadata": {
    "collapsed": false
   },
   "outputs": [],
   "source": [
    "def get_most_similar_for_lstm(input_embedding):\n",
    "    cs_list=[]\n",
    "    for v in global_vocab:\n",
    "        doc=nlp(v)\n",
    "        cs=cosine_sim(input_embedding,doc[0].vector)\n",
    "        cs_list.append((doc[0].text,cs))\n",
    "    sorted_cs_list=sorted(cs_list,key=lambda tup:tup[1],reverse=True)\n",
    "    return sorted_cs_list"
   ]
  },
  {
   "cell_type": "code",
   "execution_count": null,
   "metadata": {
    "collapsed": false,
    "scrolled": false
   },
   "outputs": [],
   "source": [
    "sample=dict2[-100:]\n",
    "test_words=[x for x,y in sample]\n",
    "ranks=[]\n",
    "X_test_embed=np.zeros((100,DEF_LEN,WV_SIZE))\n",
    "X_test_embed[:,:,:]=X_test[-100:,:,:]\n",
    "\n",
    "predictions=model.predict(X_test[-100:,:,:],batch_size=10,verbose=0)\n",
    "print \"Done\"\n"
   ]
  },
  {
   "cell_type": "code",
   "execution_count": null,
   "metadata": {
    "collapsed": false
   },
   "outputs": [],
   "source": [
    "for i in range(len(predictions)):\n",
    "    input_embedding=predictions[i]\n",
    "    \n",
    "    r=get_list_from_tuple(get_most_similar(input_embedding))\n",
    "    results=r[0]\n",
    "    scores=r[1]\n",
    "    target_word=Y_GT[-100+i]\n",
    "    print dict2[-100+i][1],' ',target_word,'/',results[0],' ',scores[0]\n",
    "    if target_word in results:\n",
    "        target_rank=results.index(target_word)\n",
    "        ranks.append(target_rank)\n",
    "        print \"%d/%d done for word %s, rank: %d\"%(i,len(test_words),str(target_word),target_rank)\n",
    "print \"Mean rank: %f\"%(float(sum(ranks))/float(len(ranks)))\n",
    "print get_rank_bins(ranks)"
   ]
  },
  {
   "cell_type": "raw",
   "metadata": {},
   "source": [
    "tf.reset_default_graph()\n"
   ]
  },
  {
   "cell_type": "code",
   "execution_count": null,
   "metadata": {
    "collapsed": true
   },
   "outputs": [],
   "source": []
  }
 ],
 "metadata": {
  "anaconda-cloud": {},
  "kernelspec": {
   "display_name": "Python [default]",
   "language": "python",
   "name": "python2"
  },
  "language_info": {
   "codemirror_mode": {
    "name": "ipython",
    "version": 2
   },
   "file_extension": ".py",
   "mimetype": "text/x-python",
   "name": "python",
   "nbconvert_exporter": "python",
   "pygments_lexer": "ipython2",
   "version": "2.7.12"
  }
 },
 "nbformat": 4,
 "nbformat_minor": 1
}
